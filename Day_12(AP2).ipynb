{
 "cells": [
  {
   "cell_type": "code",
   "execution_count": 3,
   "metadata": {},
   "outputs": [],
   "source": [
    "import pandas as pd \n",
    "import numpy as np \n",
    "import matplotlib.pyplot as plt\n",
    "import seaborn as sns\n",
    "from sklearn.preprocessing import OneHotEncoder,PolynomialFeatures,StandardScaler,LabelEncoder\n",
    "from sklearn.model_selection import train_test_split\n",
    "from sklearn.linear_model import LinearRegression,LogisticRegression\n",
    "from sklearn.compose import ColumnTransformer\n",
    "from sklearn.preprocessing import OneHotEncoder\n",
    "from sklearn.tree import DecisionTreeClassifier,DecisionTreeRegressor\n",
    "%matplotlib inline"
   ]
  },
  {
   "cell_type": "code",
   "execution_count": 4,
   "metadata": {},
   "outputs": [],
   "source": [
    "df = pd.read_csv('Day12.csv',header=None)"
   ]
  },
  {
   "cell_type": "code",
   "execution_count": 7,
   "metadata": {},
   "outputs": [
    {
     "data": {
      "text/html": [
       "<div>\n",
       "<style scoped>\n",
       "    .dataframe tbody tr th:only-of-type {\n",
       "        vertical-align: middle;\n",
       "    }\n",
       "\n",
       "    .dataframe tbody tr th {\n",
       "        vertical-align: top;\n",
       "    }\n",
       "\n",
       "    .dataframe thead th {\n",
       "        text-align: right;\n",
       "    }\n",
       "</style>\n",
       "<table border=\"1\" class=\"dataframe\">\n",
       "  <thead>\n",
       "    <tr style=\"text-align: right;\">\n",
       "      <th></th>\n",
       "      <th>0</th>\n",
       "      <th>1</th>\n",
       "      <th>2</th>\n",
       "      <th>3</th>\n",
       "      <th>4</th>\n",
       "      <th>5</th>\n",
       "      <th>6</th>\n",
       "      <th>7</th>\n",
       "      <th>8</th>\n",
       "      <th>9</th>\n",
       "      <th>10</th>\n",
       "      <th>11</th>\n",
       "      <th>12</th>\n",
       "      <th>13</th>\n",
       "      <th>14</th>\n",
       "      <th>15</th>\n",
       "      <th>16</th>\n",
       "      <th>17</th>\n",
       "      <th>18</th>\n",
       "      <th>19</th>\n",
       "    </tr>\n",
       "  </thead>\n",
       "  <tbody>\n",
       "    <tr>\n",
       "      <th>5344</th>\n",
       "      <td>muffins</td>\n",
       "      <td>NaN</td>\n",
       "      <td>NaN</td>\n",
       "      <td>NaN</td>\n",
       "      <td>NaN</td>\n",
       "      <td>NaN</td>\n",
       "      <td>NaN</td>\n",
       "      <td>NaN</td>\n",
       "      <td>NaN</td>\n",
       "      <td>NaN</td>\n",
       "      <td>NaN</td>\n",
       "      <td>NaN</td>\n",
       "      <td>NaN</td>\n",
       "      <td>NaN</td>\n",
       "      <td>NaN</td>\n",
       "      <td>NaN</td>\n",
       "      <td>NaN</td>\n",
       "      <td>NaN</td>\n",
       "      <td>NaN</td>\n",
       "      <td>NaN</td>\n",
       "    </tr>\n",
       "    <tr>\n",
       "      <th>4071</th>\n",
       "      <td>tomatoes</td>\n",
       "      <td>eggs</td>\n",
       "      <td>NaN</td>\n",
       "      <td>NaN</td>\n",
       "      <td>NaN</td>\n",
       "      <td>NaN</td>\n",
       "      <td>NaN</td>\n",
       "      <td>NaN</td>\n",
       "      <td>NaN</td>\n",
       "      <td>NaN</td>\n",
       "      <td>NaN</td>\n",
       "      <td>NaN</td>\n",
       "      <td>NaN</td>\n",
       "      <td>NaN</td>\n",
       "      <td>NaN</td>\n",
       "      <td>NaN</td>\n",
       "      <td>NaN</td>\n",
       "      <td>NaN</td>\n",
       "      <td>NaN</td>\n",
       "      <td>NaN</td>\n",
       "    </tr>\n",
       "    <tr>\n",
       "      <th>4615</th>\n",
       "      <td>french fries</td>\n",
       "      <td>NaN</td>\n",
       "      <td>NaN</td>\n",
       "      <td>NaN</td>\n",
       "      <td>NaN</td>\n",
       "      <td>NaN</td>\n",
       "      <td>NaN</td>\n",
       "      <td>NaN</td>\n",
       "      <td>NaN</td>\n",
       "      <td>NaN</td>\n",
       "      <td>NaN</td>\n",
       "      <td>NaN</td>\n",
       "      <td>NaN</td>\n",
       "      <td>NaN</td>\n",
       "      <td>NaN</td>\n",
       "      <td>NaN</td>\n",
       "      <td>NaN</td>\n",
       "      <td>NaN</td>\n",
       "      <td>NaN</td>\n",
       "      <td>NaN</td>\n",
       "    </tr>\n",
       "    <tr>\n",
       "      <th>5948</th>\n",
       "      <td>dessert wine</td>\n",
       "      <td>NaN</td>\n",
       "      <td>NaN</td>\n",
       "      <td>NaN</td>\n",
       "      <td>NaN</td>\n",
       "      <td>NaN</td>\n",
       "      <td>NaN</td>\n",
       "      <td>NaN</td>\n",
       "      <td>NaN</td>\n",
       "      <td>NaN</td>\n",
       "      <td>NaN</td>\n",
       "      <td>NaN</td>\n",
       "      <td>NaN</td>\n",
       "      <td>NaN</td>\n",
       "      <td>NaN</td>\n",
       "      <td>NaN</td>\n",
       "      <td>NaN</td>\n",
       "      <td>NaN</td>\n",
       "      <td>NaN</td>\n",
       "      <td>NaN</td>\n",
       "    </tr>\n",
       "    <tr>\n",
       "      <th>6654</th>\n",
       "      <td>honey</td>\n",
       "      <td>zucchini</td>\n",
       "      <td>NaN</td>\n",
       "      <td>NaN</td>\n",
       "      <td>NaN</td>\n",
       "      <td>NaN</td>\n",
       "      <td>NaN</td>\n",
       "      <td>NaN</td>\n",
       "      <td>NaN</td>\n",
       "      <td>NaN</td>\n",
       "      <td>NaN</td>\n",
       "      <td>NaN</td>\n",
       "      <td>NaN</td>\n",
       "      <td>NaN</td>\n",
       "      <td>NaN</td>\n",
       "      <td>NaN</td>\n",
       "      <td>NaN</td>\n",
       "      <td>NaN</td>\n",
       "      <td>NaN</td>\n",
       "      <td>NaN</td>\n",
       "    </tr>\n",
       "    <tr>\n",
       "      <th>3207</th>\n",
       "      <td>oil</td>\n",
       "      <td>frozen smoothie</td>\n",
       "      <td>white wine</td>\n",
       "      <td>NaN</td>\n",
       "      <td>NaN</td>\n",
       "      <td>NaN</td>\n",
       "      <td>NaN</td>\n",
       "      <td>NaN</td>\n",
       "      <td>NaN</td>\n",
       "      <td>NaN</td>\n",
       "      <td>NaN</td>\n",
       "      <td>NaN</td>\n",
       "      <td>NaN</td>\n",
       "      <td>NaN</td>\n",
       "      <td>NaN</td>\n",
       "      <td>NaN</td>\n",
       "      <td>NaN</td>\n",
       "      <td>NaN</td>\n",
       "      <td>NaN</td>\n",
       "      <td>NaN</td>\n",
       "    </tr>\n",
       "    <tr>\n",
       "      <th>2538</th>\n",
       "      <td>champagne</td>\n",
       "      <td>NaN</td>\n",
       "      <td>NaN</td>\n",
       "      <td>NaN</td>\n",
       "      <td>NaN</td>\n",
       "      <td>NaN</td>\n",
       "      <td>NaN</td>\n",
       "      <td>NaN</td>\n",
       "      <td>NaN</td>\n",
       "      <td>NaN</td>\n",
       "      <td>NaN</td>\n",
       "      <td>NaN</td>\n",
       "      <td>NaN</td>\n",
       "      <td>NaN</td>\n",
       "      <td>NaN</td>\n",
       "      <td>NaN</td>\n",
       "      <td>NaN</td>\n",
       "      <td>NaN</td>\n",
       "      <td>NaN</td>\n",
       "      <td>NaN</td>\n",
       "    </tr>\n",
       "    <tr>\n",
       "      <th>1037</th>\n",
       "      <td>shrimp</td>\n",
       "      <td>frozen vegetables</td>\n",
       "      <td>mineral water</td>\n",
       "      <td>green tea</td>\n",
       "      <td>NaN</td>\n",
       "      <td>NaN</td>\n",
       "      <td>NaN</td>\n",
       "      <td>NaN</td>\n",
       "      <td>NaN</td>\n",
       "      <td>NaN</td>\n",
       "      <td>NaN</td>\n",
       "      <td>NaN</td>\n",
       "      <td>NaN</td>\n",
       "      <td>NaN</td>\n",
       "      <td>NaN</td>\n",
       "      <td>NaN</td>\n",
       "      <td>NaN</td>\n",
       "      <td>NaN</td>\n",
       "      <td>NaN</td>\n",
       "      <td>NaN</td>\n",
       "    </tr>\n",
       "    <tr>\n",
       "      <th>6286</th>\n",
       "      <td>mineral water</td>\n",
       "      <td>eggs</td>\n",
       "      <td>NaN</td>\n",
       "      <td>NaN</td>\n",
       "      <td>NaN</td>\n",
       "      <td>NaN</td>\n",
       "      <td>NaN</td>\n",
       "      <td>NaN</td>\n",
       "      <td>NaN</td>\n",
       "      <td>NaN</td>\n",
       "      <td>NaN</td>\n",
       "      <td>NaN</td>\n",
       "      <td>NaN</td>\n",
       "      <td>NaN</td>\n",
       "      <td>NaN</td>\n",
       "      <td>NaN</td>\n",
       "      <td>NaN</td>\n",
       "      <td>NaN</td>\n",
       "      <td>NaN</td>\n",
       "      <td>NaN</td>\n",
       "    </tr>\n",
       "    <tr>\n",
       "      <th>1893</th>\n",
       "      <td>chocolate</td>\n",
       "      <td>herb &amp; pepper</td>\n",
       "      <td>shrimp</td>\n",
       "      <td>frozen vegetables</td>\n",
       "      <td>tomatoes</td>\n",
       "      <td>ground beef</td>\n",
       "      <td>spaghetti</td>\n",
       "      <td>mineral water</td>\n",
       "      <td>eggs</td>\n",
       "      <td>NaN</td>\n",
       "      <td>NaN</td>\n",
       "      <td>NaN</td>\n",
       "      <td>NaN</td>\n",
       "      <td>NaN</td>\n",
       "      <td>NaN</td>\n",
       "      <td>NaN</td>\n",
       "      <td>NaN</td>\n",
       "      <td>NaN</td>\n",
       "      <td>NaN</td>\n",
       "      <td>NaN</td>\n",
       "    </tr>\n",
       "  </tbody>\n",
       "</table>\n",
       "</div>"
      ],
      "text/plain": [
       "                 0                  1              2                  3   \\\n",
       "5344        muffins                NaN            NaN                NaN   \n",
       "4071       tomatoes               eggs            NaN                NaN   \n",
       "4615   french fries                NaN            NaN                NaN   \n",
       "5948   dessert wine                NaN            NaN                NaN   \n",
       "6654          honey           zucchini            NaN                NaN   \n",
       "3207            oil    frozen smoothie     white wine                NaN   \n",
       "2538      champagne                NaN            NaN                NaN   \n",
       "1037         shrimp  frozen vegetables  mineral water          green tea   \n",
       "6286  mineral water               eggs            NaN                NaN   \n",
       "1893      chocolate      herb & pepper         shrimp  frozen vegetables   \n",
       "\n",
       "            4            5          6              7     8    9    10   11  \\\n",
       "5344       NaN          NaN        NaN            NaN   NaN  NaN  NaN  NaN   \n",
       "4071       NaN          NaN        NaN            NaN   NaN  NaN  NaN  NaN   \n",
       "4615       NaN          NaN        NaN            NaN   NaN  NaN  NaN  NaN   \n",
       "5948       NaN          NaN        NaN            NaN   NaN  NaN  NaN  NaN   \n",
       "6654       NaN          NaN        NaN            NaN   NaN  NaN  NaN  NaN   \n",
       "3207       NaN          NaN        NaN            NaN   NaN  NaN  NaN  NaN   \n",
       "2538       NaN          NaN        NaN            NaN   NaN  NaN  NaN  NaN   \n",
       "1037       NaN          NaN        NaN            NaN   NaN  NaN  NaN  NaN   \n",
       "6286       NaN          NaN        NaN            NaN   NaN  NaN  NaN  NaN   \n",
       "1893  tomatoes  ground beef  spaghetti  mineral water  eggs  NaN  NaN  NaN   \n",
       "\n",
       "       12   13   14   15   16   17   18   19  \n",
       "5344  NaN  NaN  NaN  NaN  NaN  NaN  NaN  NaN  \n",
       "4071  NaN  NaN  NaN  NaN  NaN  NaN  NaN  NaN  \n",
       "4615  NaN  NaN  NaN  NaN  NaN  NaN  NaN  NaN  \n",
       "5948  NaN  NaN  NaN  NaN  NaN  NaN  NaN  NaN  \n",
       "6654  NaN  NaN  NaN  NaN  NaN  NaN  NaN  NaN  \n",
       "3207  NaN  NaN  NaN  NaN  NaN  NaN  NaN  NaN  \n",
       "2538  NaN  NaN  NaN  NaN  NaN  NaN  NaN  NaN  \n",
       "1037  NaN  NaN  NaN  NaN  NaN  NaN  NaN  NaN  \n",
       "6286  NaN  NaN  NaN  NaN  NaN  NaN  NaN  NaN  \n",
       "1893  NaN  NaN  NaN  NaN  NaN  NaN  NaN  NaN  "
      ]
     },
     "execution_count": 7,
     "metadata": {},
     "output_type": "execute_result"
    }
   ],
   "source": [
    "df.sample(10)"
   ]
  },
  {
   "cell_type": "code",
   "execution_count": 8,
   "metadata": {},
   "outputs": [
    {
     "data": {
      "text/plain": [
       "(7501, 20)"
      ]
     },
     "execution_count": 8,
     "metadata": {},
     "output_type": "execute_result"
    }
   ],
   "source": [
    "df.shape"
   ]
  },
  {
   "cell_type": "code",
   "execution_count": 9,
   "metadata": {},
   "outputs": [],
   "source": [
    "transaction = []\n",
    "for i in range(0,7501):\n",
    "    transaction.append([str(df.values[i,j]) for j in range(0,20)])"
   ]
  },
  {
   "cell_type": "markdown",
   "metadata": {},
   "source": [
    "## Training the Elcat model on the dataset"
   ]
  },
  {
   "cell_type": "code",
   "execution_count": 5,
   "metadata": {},
   "outputs": [
    {
     "data": {
      "text/html": [
       "<div>\n",
       "<style scoped>\n",
       "    .dataframe tbody tr th:only-of-type {\n",
       "        vertical-align: middle;\n",
       "    }\n",
       "\n",
       "    .dataframe tbody tr th {\n",
       "        vertical-align: top;\n",
       "    }\n",
       "\n",
       "    .dataframe thead th {\n",
       "        text-align: right;\n",
       "    }\n",
       "</style>\n",
       "<table border=\"1\" class=\"dataframe\">\n",
       "  <thead>\n",
       "    <tr style=\"text-align: right;\">\n",
       "      <th></th>\n",
       "      <th>oatmeal</th>\n",
       "      <th>green tea</th>\n",
       "      <th>ham</th>\n",
       "      <th>burgers</th>\n",
       "      <th>dessert wine</th>\n",
       "      <th>eggplant</th>\n",
       "      <th>chutney</th>\n",
       "      <th>mayonnaise</th>\n",
       "      <th>chocolate bread</th>\n",
       "      <th>pickles</th>\n",
       "      <th>...</th>\n",
       "      <th>flax seed</th>\n",
       "      <th>strawberries</th>\n",
       "      <th>mineral water</th>\n",
       "      <th>tomato juice</th>\n",
       "      <th>fresh tuna</th>\n",
       "      <th>almonds</th>\n",
       "      <th>bug spray</th>\n",
       "      <th>hot dogs</th>\n",
       "      <th>zucchini</th>\n",
       "      <th>salmon</th>\n",
       "    </tr>\n",
       "  </thead>\n",
       "  <tbody>\n",
       "    <tr>\n",
       "      <th>0</th>\n",
       "      <td>0</td>\n",
       "      <td>1</td>\n",
       "      <td>0</td>\n",
       "      <td>0</td>\n",
       "      <td>0</td>\n",
       "      <td>0</td>\n",
       "      <td>0</td>\n",
       "      <td>0</td>\n",
       "      <td>0</td>\n",
       "      <td>0</td>\n",
       "      <td>...</td>\n",
       "      <td>0</td>\n",
       "      <td>0</td>\n",
       "      <td>1</td>\n",
       "      <td>1</td>\n",
       "      <td>0</td>\n",
       "      <td>1</td>\n",
       "      <td>0</td>\n",
       "      <td>0</td>\n",
       "      <td>0</td>\n",
       "      <td>1</td>\n",
       "    </tr>\n",
       "    <tr>\n",
       "      <th>1</th>\n",
       "      <td>0</td>\n",
       "      <td>0</td>\n",
       "      <td>0</td>\n",
       "      <td>1</td>\n",
       "      <td>0</td>\n",
       "      <td>0</td>\n",
       "      <td>0</td>\n",
       "      <td>0</td>\n",
       "      <td>0</td>\n",
       "      <td>0</td>\n",
       "      <td>...</td>\n",
       "      <td>0</td>\n",
       "      <td>0</td>\n",
       "      <td>0</td>\n",
       "      <td>0</td>\n",
       "      <td>0</td>\n",
       "      <td>0</td>\n",
       "      <td>0</td>\n",
       "      <td>0</td>\n",
       "      <td>0</td>\n",
       "      <td>0</td>\n",
       "    </tr>\n",
       "    <tr>\n",
       "      <th>2</th>\n",
       "      <td>0</td>\n",
       "      <td>0</td>\n",
       "      <td>0</td>\n",
       "      <td>0</td>\n",
       "      <td>0</td>\n",
       "      <td>0</td>\n",
       "      <td>1</td>\n",
       "      <td>0</td>\n",
       "      <td>0</td>\n",
       "      <td>0</td>\n",
       "      <td>...</td>\n",
       "      <td>0</td>\n",
       "      <td>0</td>\n",
       "      <td>0</td>\n",
       "      <td>0</td>\n",
       "      <td>0</td>\n",
       "      <td>0</td>\n",
       "      <td>0</td>\n",
       "      <td>0</td>\n",
       "      <td>0</td>\n",
       "      <td>0</td>\n",
       "    </tr>\n",
       "    <tr>\n",
       "      <th>3</th>\n",
       "      <td>0</td>\n",
       "      <td>0</td>\n",
       "      <td>0</td>\n",
       "      <td>0</td>\n",
       "      <td>0</td>\n",
       "      <td>0</td>\n",
       "      <td>0</td>\n",
       "      <td>0</td>\n",
       "      <td>0</td>\n",
       "      <td>0</td>\n",
       "      <td>...</td>\n",
       "      <td>0</td>\n",
       "      <td>0</td>\n",
       "      <td>0</td>\n",
       "      <td>0</td>\n",
       "      <td>0</td>\n",
       "      <td>0</td>\n",
       "      <td>0</td>\n",
       "      <td>0</td>\n",
       "      <td>0</td>\n",
       "      <td>0</td>\n",
       "    </tr>\n",
       "    <tr>\n",
       "      <th>4</th>\n",
       "      <td>0</td>\n",
       "      <td>1</td>\n",
       "      <td>0</td>\n",
       "      <td>0</td>\n",
       "      <td>0</td>\n",
       "      <td>0</td>\n",
       "      <td>0</td>\n",
       "      <td>0</td>\n",
       "      <td>0</td>\n",
       "      <td>0</td>\n",
       "      <td>...</td>\n",
       "      <td>0</td>\n",
       "      <td>0</td>\n",
       "      <td>1</td>\n",
       "      <td>0</td>\n",
       "      <td>0</td>\n",
       "      <td>0</td>\n",
       "      <td>0</td>\n",
       "      <td>0</td>\n",
       "      <td>0</td>\n",
       "      <td>0</td>\n",
       "    </tr>\n",
       "    <tr>\n",
       "      <th>...</th>\n",
       "      <td>...</td>\n",
       "      <td>...</td>\n",
       "      <td>...</td>\n",
       "      <td>...</td>\n",
       "      <td>...</td>\n",
       "      <td>...</td>\n",
       "      <td>...</td>\n",
       "      <td>...</td>\n",
       "      <td>...</td>\n",
       "      <td>...</td>\n",
       "      <td>...</td>\n",
       "      <td>...</td>\n",
       "      <td>...</td>\n",
       "      <td>...</td>\n",
       "      <td>...</td>\n",
       "      <td>...</td>\n",
       "      <td>...</td>\n",
       "      <td>...</td>\n",
       "      <td>...</td>\n",
       "      <td>...</td>\n",
       "      <td>...</td>\n",
       "    </tr>\n",
       "    <tr>\n",
       "      <th>7496</th>\n",
       "      <td>0</td>\n",
       "      <td>0</td>\n",
       "      <td>0</td>\n",
       "      <td>0</td>\n",
       "      <td>0</td>\n",
       "      <td>0</td>\n",
       "      <td>0</td>\n",
       "      <td>0</td>\n",
       "      <td>0</td>\n",
       "      <td>0</td>\n",
       "      <td>...</td>\n",
       "      <td>0</td>\n",
       "      <td>0</td>\n",
       "      <td>0</td>\n",
       "      <td>0</td>\n",
       "      <td>0</td>\n",
       "      <td>0</td>\n",
       "      <td>0</td>\n",
       "      <td>0</td>\n",
       "      <td>0</td>\n",
       "      <td>0</td>\n",
       "    </tr>\n",
       "    <tr>\n",
       "      <th>7497</th>\n",
       "      <td>0</td>\n",
       "      <td>1</td>\n",
       "      <td>0</td>\n",
       "      <td>1</td>\n",
       "      <td>0</td>\n",
       "      <td>0</td>\n",
       "      <td>0</td>\n",
       "      <td>0</td>\n",
       "      <td>0</td>\n",
       "      <td>0</td>\n",
       "      <td>...</td>\n",
       "      <td>0</td>\n",
       "      <td>0</td>\n",
       "      <td>0</td>\n",
       "      <td>0</td>\n",
       "      <td>0</td>\n",
       "      <td>0</td>\n",
       "      <td>0</td>\n",
       "      <td>0</td>\n",
       "      <td>0</td>\n",
       "      <td>0</td>\n",
       "    </tr>\n",
       "    <tr>\n",
       "      <th>7498</th>\n",
       "      <td>0</td>\n",
       "      <td>0</td>\n",
       "      <td>0</td>\n",
       "      <td>0</td>\n",
       "      <td>0</td>\n",
       "      <td>0</td>\n",
       "      <td>0</td>\n",
       "      <td>0</td>\n",
       "      <td>0</td>\n",
       "      <td>0</td>\n",
       "      <td>...</td>\n",
       "      <td>0</td>\n",
       "      <td>0</td>\n",
       "      <td>0</td>\n",
       "      <td>0</td>\n",
       "      <td>0</td>\n",
       "      <td>0</td>\n",
       "      <td>0</td>\n",
       "      <td>0</td>\n",
       "      <td>0</td>\n",
       "      <td>0</td>\n",
       "    </tr>\n",
       "    <tr>\n",
       "      <th>7499</th>\n",
       "      <td>0</td>\n",
       "      <td>1</td>\n",
       "      <td>0</td>\n",
       "      <td>0</td>\n",
       "      <td>0</td>\n",
       "      <td>0</td>\n",
       "      <td>0</td>\n",
       "      <td>0</td>\n",
       "      <td>0</td>\n",
       "      <td>0</td>\n",
       "      <td>...</td>\n",
       "      <td>0</td>\n",
       "      <td>0</td>\n",
       "      <td>0</td>\n",
       "      <td>0</td>\n",
       "      <td>0</td>\n",
       "      <td>0</td>\n",
       "      <td>0</td>\n",
       "      <td>0</td>\n",
       "      <td>0</td>\n",
       "      <td>0</td>\n",
       "    </tr>\n",
       "    <tr>\n",
       "      <th>7500</th>\n",
       "      <td>0</td>\n",
       "      <td>0</td>\n",
       "      <td>0</td>\n",
       "      <td>0</td>\n",
       "      <td>0</td>\n",
       "      <td>0</td>\n",
       "      <td>0</td>\n",
       "      <td>0</td>\n",
       "      <td>0</td>\n",
       "      <td>0</td>\n",
       "      <td>...</td>\n",
       "      <td>0</td>\n",
       "      <td>0</td>\n",
       "      <td>0</td>\n",
       "      <td>0</td>\n",
       "      <td>0</td>\n",
       "      <td>0</td>\n",
       "      <td>0</td>\n",
       "      <td>0</td>\n",
       "      <td>0</td>\n",
       "      <td>0</td>\n",
       "    </tr>\n",
       "  </tbody>\n",
       "</table>\n",
       "<p>7501 rows × 120 columns</p>\n",
       "</div>"
      ],
      "text/plain": [
       "      oatmeal  green tea  ham  burgers  dessert wine  eggplant  chutney  \\\n",
       "0           0          1    0        0             0         0        0   \n",
       "1           0          0    0        1             0         0        0   \n",
       "2           0          0    0        0             0         0        1   \n",
       "3           0          0    0        0             0         0        0   \n",
       "4           0          1    0        0             0         0        0   \n",
       "...       ...        ...  ...      ...           ...       ...      ...   \n",
       "7496        0          0    0        0             0         0        0   \n",
       "7497        0          1    0        1             0         0        0   \n",
       "7498        0          0    0        0             0         0        0   \n",
       "7499        0          1    0        0             0         0        0   \n",
       "7500        0          0    0        0             0         0        0   \n",
       "\n",
       "      mayonnaise  chocolate bread  pickles  ...  flax seed  strawberries  \\\n",
       "0              0                0        0  ...          0             0   \n",
       "1              0                0        0  ...          0             0   \n",
       "2              0                0        0  ...          0             0   \n",
       "3              0                0        0  ...          0             0   \n",
       "4              0                0        0  ...          0             0   \n",
       "...          ...              ...      ...  ...        ...           ...   \n",
       "7496           0                0        0  ...          0             0   \n",
       "7497           0                0        0  ...          0             0   \n",
       "7498           0                0        0  ...          0             0   \n",
       "7499           0                0        0  ...          0             0   \n",
       "7500           0                0        0  ...          0             0   \n",
       "\n",
       "      mineral water  tomato juice  fresh tuna  almonds  bug spray  hot dogs  \\\n",
       "0                 1             1           0        1          0         0   \n",
       "1                 0             0           0        0          0         0   \n",
       "2                 0             0           0        0          0         0   \n",
       "3                 0             0           0        0          0         0   \n",
       "4                 1             0           0        0          0         0   \n",
       "...             ...           ...         ...      ...        ...       ...   \n",
       "7496              0             0           0        0          0         0   \n",
       "7497              0             0           0        0          0         0   \n",
       "7498              0             0           0        0          0         0   \n",
       "7499              0             0           0        0          0         0   \n",
       "7500              0             0           0        0          0         0   \n",
       "\n",
       "      zucchini  salmon  \n",
       "0            0       1  \n",
       "1            0       0  \n",
       "2            0       0  \n",
       "3            0       0  \n",
       "4            0       0  \n",
       "...        ...     ...  \n",
       "7496         0       0  \n",
       "7497         0       0  \n",
       "7498         0       0  \n",
       "7499         0       0  \n",
       "7500         0       0  \n",
       "\n",
       "[7501 rows x 120 columns]"
      ]
     },
     "execution_count": 5,
     "metadata": {},
     "output_type": "execute_result"
    }
   ],
   "source": [
    "from pyECLAT import ECLAT\n",
    "\n",
    "eclat = ECLAT(data=df)\n",
    "\n",
    "eclat.df_bin"
   ]
  },
  {
   "cell_type": "code",
   "execution_count": 6,
   "metadata": {},
   "outputs": [
    {
     "data": {
      "text/plain": [
       "oatmeal          33\n",
       "green tea       991\n",
       "ham             199\n",
       "burgers         654\n",
       "dessert wine     33\n",
       "               ... \n",
       "almonds         153\n",
       "bug spray        65\n",
       "hot dogs        243\n",
       "zucchini         71\n",
       "salmon          319\n",
       "Length: 120, dtype: int64"
      ]
     },
     "execution_count": 6,
     "metadata": {},
     "output_type": "execute_result"
    }
   ],
   "source": [
    "items_total = eclat.df_bin.astype(int).sum(axis=0)\n",
    "items_total"
   ]
  },
  {
   "cell_type": "code",
   "execution_count": 7,
   "metadata": {},
   "outputs": [
    {
     "data": {
      "text/plain": [
       "0       20\n",
       "1        3\n",
       "2        1\n",
       "3        2\n",
       "4        5\n",
       "        ..\n",
       "7496     3\n",
       "7497     6\n",
       "7498     1\n",
       "7499     2\n",
       "7500     4\n",
       "Length: 7501, dtype: int64"
      ]
     },
     "execution_count": 7,
     "metadata": {},
     "output_type": "execute_result"
    }
   ],
   "source": [
    "items_per_transaction = eclat.df_bin.astype(int).sum(axis=1)\n",
    "items_per_transaction"
   ]
  },
  {
   "cell_type": "code",
   "execution_count": 8,
   "metadata": {},
   "outputs": [
    {
     "data": {
      "text/html": [
       "<style type=\"text/css\">\n",
       "#T_31a59_row0_col1 {\n",
       "  background-color: #08306b;\n",
       "  color: #f1f1f1;\n",
       "}\n",
       "#T_31a59_row1_col1 {\n",
       "  background-color: #cde0f1;\n",
       "  color: #000000;\n",
       "}\n",
       "#T_31a59_row2_col1 {\n",
       "  background-color: #dce9f6;\n",
       "  color: #000000;\n",
       "}\n",
       "#T_31a59_row3_col1 {\n",
       "  background-color: #e4eff9;\n",
       "  color: #000000;\n",
       "}\n",
       "#T_31a59_row4_col1 {\n",
       "  background-color: #f7fbff;\n",
       "  color: #000000;\n",
       "}\n",
       "</style>\n",
       "<table id=\"T_31a59\">\n",
       "  <thead>\n",
       "    <tr>\n",
       "      <th class=\"blank level0\" >&nbsp;</th>\n",
       "      <th id=\"T_31a59_level0_col0\" class=\"col_heading level0 col0\" >items</th>\n",
       "      <th id=\"T_31a59_level0_col1\" class=\"col_heading level0 col1\" >transaction</th>\n",
       "    </tr>\n",
       "  </thead>\n",
       "  <tbody>\n",
       "    <tr>\n",
       "      <th id=\"T_31a59_level0_row0\" class=\"row_heading level0 row0\" >112</th>\n",
       "      <td id=\"T_31a59_row0_col0\" class=\"data row0 col0\" >mineral water</td>\n",
       "      <td id=\"T_31a59_row0_col1\" class=\"data row0 col1\" >1788</td>\n",
       "    </tr>\n",
       "    <tr>\n",
       "      <th id=\"T_31a59_level0_row1\" class=\"row_heading level0 row1\" >68</th>\n",
       "      <td id=\"T_31a59_row1_col0\" class=\"data row1 col0\" >eggs</td>\n",
       "      <td id=\"T_31a59_row1_col1\" class=\"data row1 col1\" >1348</td>\n",
       "    </tr>\n",
       "    <tr>\n",
       "      <th id=\"T_31a59_level0_row2\" class=\"row_heading level0 row2\" >93</th>\n",
       "      <td id=\"T_31a59_row2_col0\" class=\"data row2 col0\" >spaghetti</td>\n",
       "      <td id=\"T_31a59_row2_col1\" class=\"data row2 col1\" >1306</td>\n",
       "    </tr>\n",
       "    <tr>\n",
       "      <th id=\"T_31a59_level0_row3\" class=\"row_heading level0 row3\" >101</th>\n",
       "      <td id=\"T_31a59_row3_col0\" class=\"data row3 col0\" >french fries</td>\n",
       "      <td id=\"T_31a59_row3_col1\" class=\"data row3 col1\" >1282</td>\n",
       "    </tr>\n",
       "    <tr>\n",
       "      <th id=\"T_31a59_level0_row4\" class=\"row_heading level0 row4\" >46</th>\n",
       "      <td id=\"T_31a59_row4_col0\" class=\"data row4 col0\" >chocolate</td>\n",
       "      <td id=\"T_31a59_row4_col1\" class=\"data row4 col1\" >1229</td>\n",
       "    </tr>\n",
       "  </tbody>\n",
       "</table>\n"
      ],
      "text/plain": [
       "<pandas.io.formats.style.Styler at 0x196b08547d0>"
      ]
     },
     "execution_count": 8,
     "metadata": {},
     "output_type": "execute_result"
    }
   ],
   "source": [
    "df1 = pd.DataFrame({'items':items_total.index,\n",
    "                   'transaction':items_total.values})\n",
    "\n",
    "df_table = df1.sort_values('transaction',ascending=False)\n",
    "\n",
    "df_table.head(5).style.background_gradient(cmap='Blues')"
   ]
  },
  {
   "cell_type": "code",
   "execution_count": 11,
   "metadata": {},
   "outputs": [
    {
     "data": {
      "application/vnd.plotly.v1+json": {
       "config": {
        "plotlyServerURL": "https://plot.ly"
       },
       "data": [
        {
         "branchvalues": "total",
         "customdata": [
          [
           "avocado",
           250
          ],
          [
           "brownies",
           253
          ],
          [
           "burgers",
           654
          ],
          [
           "butter",
           226
          ],
          [
           "cake",
           608
          ],
          [
           "cereals",
           193
          ],
          [
           "champagne",
           351
          ],
          [
           "chicken",
           450
          ],
          [
           "chocolate",
           1229
          ],
          [
           "cookies",
           603
          ],
          [
           "cooking oil",
           383
          ],
          [
           "cottage cheese",
           239
          ],
          [
           "eggs",
           1348
          ],
          [
           "energy bar",
           203
          ],
          [
           "energy drink",
           200
          ],
          [
           "escalope",
           595
          ],
          [
           "french fries",
           1282
          ],
          [
           "french wine",
           169
          ],
          [
           "fresh bread",
           323
          ],
          [
           "fresh tuna",
           167
          ],
          [
           "frozen smoothie",
           475
          ],
          [
           "frozen vegetables",
           715
          ],
          [
           "grated cheese",
           393
          ],
          [
           "green tea",
           991
          ],
          [
           "ground beef",
           737
          ],
          [
           "ham",
           199
          ],
          [
           "herb & pepper",
           371
          ],
          [
           "honey",
           356
          ],
          [
           "hot dogs",
           243
          ],
          [
           "light mayo",
           204
          ],
          [
           "low fat yogurt",
           574
          ],
          [
           "milk",
           972
          ],
          [
           "mineral water",
           1788
          ],
          [
           "muffins",
           181
          ],
          [
           "oil",
           173
          ],
          [
           "olive oil",
           494
          ],
          [
           "pancakes",
           713
          ],
          [
           "pepper",
           199
          ],
          [
           "red wine",
           211
          ],
          [
           "salmon",
           319
          ],
          [
           "shrimp",
           536
          ],
          [
           "soup",
           379
          ],
          [
           "spaghetti",
           1306
          ],
          [
           "tomato juice",
           228
          ],
          [
           "tomatoes",
           513
          ],
          [
           "turkey",
           469
          ],
          [
           "vegetables mix",
           193
          ],
          [
           "whole wheat pasta",
           221
          ],
          [
           "whole wheat rice",
           439
          ],
          [
           "yogurt cake",
           205
          ],
          [
           "(?)",
           764.9273335236309
          ]
         ],
         "domain": {
          "x": [
           0,
           1
          ],
          "y": [
           0,
           1
          ]
         },
         "hovertemplate": "labels=%{label}<br>transaction=%{value}<br>parent=%{parent}<br>id=%{id}<br>items=%{customdata[0]}<br>color=%{color}<extra></extra>",
         "ids": [
          "Tree Map/avocado",
          "Tree Map/brownies",
          "Tree Map/burgers",
          "Tree Map/butter",
          "Tree Map/cake",
          "Tree Map/cereals",
          "Tree Map/champagne",
          "Tree Map/chicken",
          "Tree Map/chocolate",
          "Tree Map/cookies",
          "Tree Map/cooking oil",
          "Tree Map/cottage cheese",
          "Tree Map/eggs",
          "Tree Map/energy bar",
          "Tree Map/energy drink",
          "Tree Map/escalope",
          "Tree Map/french fries",
          "Tree Map/french wine",
          "Tree Map/fresh bread",
          "Tree Map/fresh tuna",
          "Tree Map/frozen smoothie",
          "Tree Map/frozen vegetables",
          "Tree Map/grated cheese",
          "Tree Map/green tea",
          "Tree Map/ground beef",
          "Tree Map/ham",
          "Tree Map/herb & pepper",
          "Tree Map/honey",
          "Tree Map/hot dogs",
          "Tree Map/light mayo",
          "Tree Map/low fat yogurt",
          "Tree Map/milk",
          "Tree Map/mineral water",
          "Tree Map/muffins",
          "Tree Map/oil",
          "Tree Map/olive oil",
          "Tree Map/pancakes",
          "Tree Map/pepper",
          "Tree Map/red wine",
          "Tree Map/salmon",
          "Tree Map/shrimp",
          "Tree Map/soup",
          "Tree Map/spaghetti",
          "Tree Map/tomato juice",
          "Tree Map/tomatoes",
          "Tree Map/turkey",
          "Tree Map/vegetables mix",
          "Tree Map/whole wheat pasta",
          "Tree Map/whole wheat rice",
          "Tree Map/yogurt cake",
          "Tree Map"
         ],
         "labels": [
          "avocado",
          "brownies",
          "burgers",
          "butter",
          "cake",
          "cereals",
          "champagne",
          "chicken",
          "chocolate",
          "cookies",
          "cooking oil",
          "cottage cheese",
          "eggs",
          "energy bar",
          "energy drink",
          "escalope",
          "french fries",
          "french wine",
          "fresh bread",
          "fresh tuna",
          "frozen smoothie",
          "frozen vegetables",
          "grated cheese",
          "green tea",
          "ground beef",
          "ham",
          "herb & pepper",
          "honey",
          "hot dogs",
          "light mayo",
          "low fat yogurt",
          "milk",
          "mineral water",
          "muffins",
          "oil",
          "olive oil",
          "pancakes",
          "pepper",
          "red wine",
          "salmon",
          "shrimp",
          "soup",
          "spaghetti",
          "tomato juice",
          "tomatoes",
          "turkey",
          "vegetables mix",
          "whole wheat pasta",
          "whole wheat rice",
          "yogurt cake",
          "Tree Map"
         ],
         "marker": {
          "coloraxis": "coloraxis",
          "colors": [
           250,
           253,
           654,
           226,
           608,
           193,
           351,
           450,
           1229,
           603,
           383,
           239,
           1348,
           203,
           200,
           595,
           1282,
           169,
           323,
           167,
           475,
           715,
           393,
           991,
           737,
           199,
           371,
           356,
           243,
           204,
           574,
           972,
           1788,
           181,
           173,
           494,
           713,
           199,
           211,
           319,
           536,
           379,
           1306,
           228,
           513,
           469,
           193,
           221,
           439,
           205,
           764.9273335236309
          ]
         },
         "name": "",
         "parents": [
          "Tree Map",
          "Tree Map",
          "Tree Map",
          "Tree Map",
          "Tree Map",
          "Tree Map",
          "Tree Map",
          "Tree Map",
          "Tree Map",
          "Tree Map",
          "Tree Map",
          "Tree Map",
          "Tree Map",
          "Tree Map",
          "Tree Map",
          "Tree Map",
          "Tree Map",
          "Tree Map",
          "Tree Map",
          "Tree Map",
          "Tree Map",
          "Tree Map",
          "Tree Map",
          "Tree Map",
          "Tree Map",
          "Tree Map",
          "Tree Map",
          "Tree Map",
          "Tree Map",
          "Tree Map",
          "Tree Map",
          "Tree Map",
          "Tree Map",
          "Tree Map",
          "Tree Map",
          "Tree Map",
          "Tree Map",
          "Tree Map",
          "Tree Map",
          "Tree Map",
          "Tree Map",
          "Tree Map",
          "Tree Map",
          "Tree Map",
          "Tree Map",
          "Tree Map",
          "Tree Map",
          "Tree Map",
          "Tree Map",
          "Tree Map",
          ""
         ],
         "type": "treemap",
         "values": [
          250,
          253,
          654,
          226,
          608,
          193,
          351,
          450,
          1229,
          603,
          383,
          239,
          1348,
          203,
          200,
          595,
          1282,
          169,
          323,
          167,
          475,
          715,
          393,
          991,
          737,
          199,
          371,
          356,
          243,
          204,
          574,
          972,
          1788,
          181,
          173,
          494,
          713,
          199,
          211,
          319,
          536,
          379,
          1306,
          228,
          513,
          469,
          193,
          221,
          439,
          205,
          24523
         ]
        }
       ],
       "layout": {
        "coloraxis": {
         "colorbar": {
          "title": {
           "text": "color"
          }
         },
         "colorscale": [
          [
           0,
           "rgb(247,251,255)"
          ],
          [
           0.125,
           "rgb(222,235,247)"
          ],
          [
           0.25,
           "rgb(198,219,239)"
          ],
          [
           0.375,
           "rgb(158,202,225)"
          ],
          [
           0.5,
           "rgb(107,174,214)"
          ],
          [
           0.625,
           "rgb(66,146,198)"
          ],
          [
           0.75,
           "rgb(33,113,181)"
          ],
          [
           0.875,
           "rgb(8,81,156)"
          ],
          [
           1,
           "rgb(8,48,107)"
          ]
         ]
        },
        "legend": {
         "tracegroupgap": 0
        },
        "margin": {
         "t": 60
        },
        "template": {
         "data": {
          "bar": [
           {
            "error_x": {
             "color": "#2a3f5f"
            },
            "error_y": {
             "color": "#2a3f5f"
            },
            "marker": {
             "line": {
              "color": "#E5ECF6",
              "width": 0.5
             },
             "pattern": {
              "fillmode": "overlay",
              "size": 10,
              "solidity": 0.2
             }
            },
            "type": "bar"
           }
          ],
          "barpolar": [
           {
            "marker": {
             "line": {
              "color": "#E5ECF6",
              "width": 0.5
             },
             "pattern": {
              "fillmode": "overlay",
              "size": 10,
              "solidity": 0.2
             }
            },
            "type": "barpolar"
           }
          ],
          "carpet": [
           {
            "aaxis": {
             "endlinecolor": "#2a3f5f",
             "gridcolor": "white",
             "linecolor": "white",
             "minorgridcolor": "white",
             "startlinecolor": "#2a3f5f"
            },
            "baxis": {
             "endlinecolor": "#2a3f5f",
             "gridcolor": "white",
             "linecolor": "white",
             "minorgridcolor": "white",
             "startlinecolor": "#2a3f5f"
            },
            "type": "carpet"
           }
          ],
          "choropleth": [
           {
            "colorbar": {
             "outlinewidth": 0,
             "ticks": ""
            },
            "type": "choropleth"
           }
          ],
          "contour": [
           {
            "colorbar": {
             "outlinewidth": 0,
             "ticks": ""
            },
            "colorscale": [
             [
              0,
              "#0d0887"
             ],
             [
              0.1111111111111111,
              "#46039f"
             ],
             [
              0.2222222222222222,
              "#7201a8"
             ],
             [
              0.3333333333333333,
              "#9c179e"
             ],
             [
              0.4444444444444444,
              "#bd3786"
             ],
             [
              0.5555555555555556,
              "#d8576b"
             ],
             [
              0.6666666666666666,
              "#ed7953"
             ],
             [
              0.7777777777777778,
              "#fb9f3a"
             ],
             [
              0.8888888888888888,
              "#fdca26"
             ],
             [
              1,
              "#f0f921"
             ]
            ],
            "type": "contour"
           }
          ],
          "contourcarpet": [
           {
            "colorbar": {
             "outlinewidth": 0,
             "ticks": ""
            },
            "type": "contourcarpet"
           }
          ],
          "heatmap": [
           {
            "colorbar": {
             "outlinewidth": 0,
             "ticks": ""
            },
            "colorscale": [
             [
              0,
              "#0d0887"
             ],
             [
              0.1111111111111111,
              "#46039f"
             ],
             [
              0.2222222222222222,
              "#7201a8"
             ],
             [
              0.3333333333333333,
              "#9c179e"
             ],
             [
              0.4444444444444444,
              "#bd3786"
             ],
             [
              0.5555555555555556,
              "#d8576b"
             ],
             [
              0.6666666666666666,
              "#ed7953"
             ],
             [
              0.7777777777777778,
              "#fb9f3a"
             ],
             [
              0.8888888888888888,
              "#fdca26"
             ],
             [
              1,
              "#f0f921"
             ]
            ],
            "type": "heatmap"
           }
          ],
          "heatmapgl": [
           {
            "colorbar": {
             "outlinewidth": 0,
             "ticks": ""
            },
            "colorscale": [
             [
              0,
              "#0d0887"
             ],
             [
              0.1111111111111111,
              "#46039f"
             ],
             [
              0.2222222222222222,
              "#7201a8"
             ],
             [
              0.3333333333333333,
              "#9c179e"
             ],
             [
              0.4444444444444444,
              "#bd3786"
             ],
             [
              0.5555555555555556,
              "#d8576b"
             ],
             [
              0.6666666666666666,
              "#ed7953"
             ],
             [
              0.7777777777777778,
              "#fb9f3a"
             ],
             [
              0.8888888888888888,
              "#fdca26"
             ],
             [
              1,
              "#f0f921"
             ]
            ],
            "type": "heatmapgl"
           }
          ],
          "histogram": [
           {
            "marker": {
             "pattern": {
              "fillmode": "overlay",
              "size": 10,
              "solidity": 0.2
             }
            },
            "type": "histogram"
           }
          ],
          "histogram2d": [
           {
            "colorbar": {
             "outlinewidth": 0,
             "ticks": ""
            },
            "colorscale": [
             [
              0,
              "#0d0887"
             ],
             [
              0.1111111111111111,
              "#46039f"
             ],
             [
              0.2222222222222222,
              "#7201a8"
             ],
             [
              0.3333333333333333,
              "#9c179e"
             ],
             [
              0.4444444444444444,
              "#bd3786"
             ],
             [
              0.5555555555555556,
              "#d8576b"
             ],
             [
              0.6666666666666666,
              "#ed7953"
             ],
             [
              0.7777777777777778,
              "#fb9f3a"
             ],
             [
              0.8888888888888888,
              "#fdca26"
             ],
             [
              1,
              "#f0f921"
             ]
            ],
            "type": "histogram2d"
           }
          ],
          "histogram2dcontour": [
           {
            "colorbar": {
             "outlinewidth": 0,
             "ticks": ""
            },
            "colorscale": [
             [
              0,
              "#0d0887"
             ],
             [
              0.1111111111111111,
              "#46039f"
             ],
             [
              0.2222222222222222,
              "#7201a8"
             ],
             [
              0.3333333333333333,
              "#9c179e"
             ],
             [
              0.4444444444444444,
              "#bd3786"
             ],
             [
              0.5555555555555556,
              "#d8576b"
             ],
             [
              0.6666666666666666,
              "#ed7953"
             ],
             [
              0.7777777777777778,
              "#fb9f3a"
             ],
             [
              0.8888888888888888,
              "#fdca26"
             ],
             [
              1,
              "#f0f921"
             ]
            ],
            "type": "histogram2dcontour"
           }
          ],
          "mesh3d": [
           {
            "colorbar": {
             "outlinewidth": 0,
             "ticks": ""
            },
            "type": "mesh3d"
           }
          ],
          "parcoords": [
           {
            "line": {
             "colorbar": {
              "outlinewidth": 0,
              "ticks": ""
             }
            },
            "type": "parcoords"
           }
          ],
          "pie": [
           {
            "automargin": true,
            "type": "pie"
           }
          ],
          "scatter": [
           {
            "fillpattern": {
             "fillmode": "overlay",
             "size": 10,
             "solidity": 0.2
            },
            "type": "scatter"
           }
          ],
          "scatter3d": [
           {
            "line": {
             "colorbar": {
              "outlinewidth": 0,
              "ticks": ""
             }
            },
            "marker": {
             "colorbar": {
              "outlinewidth": 0,
              "ticks": ""
             }
            },
            "type": "scatter3d"
           }
          ],
          "scattercarpet": [
           {
            "marker": {
             "colorbar": {
              "outlinewidth": 0,
              "ticks": ""
             }
            },
            "type": "scattercarpet"
           }
          ],
          "scattergeo": [
           {
            "marker": {
             "colorbar": {
              "outlinewidth": 0,
              "ticks": ""
             }
            },
            "type": "scattergeo"
           }
          ],
          "scattergl": [
           {
            "marker": {
             "colorbar": {
              "outlinewidth": 0,
              "ticks": ""
             }
            },
            "type": "scattergl"
           }
          ],
          "scattermapbox": [
           {
            "marker": {
             "colorbar": {
              "outlinewidth": 0,
              "ticks": ""
             }
            },
            "type": "scattermapbox"
           }
          ],
          "scatterpolar": [
           {
            "marker": {
             "colorbar": {
              "outlinewidth": 0,
              "ticks": ""
             }
            },
            "type": "scatterpolar"
           }
          ],
          "scatterpolargl": [
           {
            "marker": {
             "colorbar": {
              "outlinewidth": 0,
              "ticks": ""
             }
            },
            "type": "scatterpolargl"
           }
          ],
          "scatterternary": [
           {
            "marker": {
             "colorbar": {
              "outlinewidth": 0,
              "ticks": ""
             }
            },
            "type": "scatterternary"
           }
          ],
          "surface": [
           {
            "colorbar": {
             "outlinewidth": 0,
             "ticks": ""
            },
            "colorscale": [
             [
              0,
              "#0d0887"
             ],
             [
              0.1111111111111111,
              "#46039f"
             ],
             [
              0.2222222222222222,
              "#7201a8"
             ],
             [
              0.3333333333333333,
              "#9c179e"
             ],
             [
              0.4444444444444444,
              "#bd3786"
             ],
             [
              0.5555555555555556,
              "#d8576b"
             ],
             [
              0.6666666666666666,
              "#ed7953"
             ],
             [
              0.7777777777777778,
              "#fb9f3a"
             ],
             [
              0.8888888888888888,
              "#fdca26"
             ],
             [
              1,
              "#f0f921"
             ]
            ],
            "type": "surface"
           }
          ],
          "table": [
           {
            "cells": {
             "fill": {
              "color": "#EBF0F8"
             },
             "line": {
              "color": "white"
             }
            },
            "header": {
             "fill": {
              "color": "#C8D4E3"
             },
             "line": {
              "color": "white"
             }
            },
            "type": "table"
           }
          ]
         },
         "layout": {
          "annotationdefaults": {
           "arrowcolor": "#2a3f5f",
           "arrowhead": 0,
           "arrowwidth": 1
          },
          "autotypenumbers": "strict",
          "coloraxis": {
           "colorbar": {
            "outlinewidth": 0,
            "ticks": ""
           }
          },
          "colorscale": {
           "diverging": [
            [
             0,
             "#8e0152"
            ],
            [
             0.1,
             "#c51b7d"
            ],
            [
             0.2,
             "#de77ae"
            ],
            [
             0.3,
             "#f1b6da"
            ],
            [
             0.4,
             "#fde0ef"
            ],
            [
             0.5,
             "#f7f7f7"
            ],
            [
             0.6,
             "#e6f5d0"
            ],
            [
             0.7,
             "#b8e186"
            ],
            [
             0.8,
             "#7fbc41"
            ],
            [
             0.9,
             "#4d9221"
            ],
            [
             1,
             "#276419"
            ]
           ],
           "sequential": [
            [
             0,
             "#0d0887"
            ],
            [
             0.1111111111111111,
             "#46039f"
            ],
            [
             0.2222222222222222,
             "#7201a8"
            ],
            [
             0.3333333333333333,
             "#9c179e"
            ],
            [
             0.4444444444444444,
             "#bd3786"
            ],
            [
             0.5555555555555556,
             "#d8576b"
            ],
            [
             0.6666666666666666,
             "#ed7953"
            ],
            [
             0.7777777777777778,
             "#fb9f3a"
            ],
            [
             0.8888888888888888,
             "#fdca26"
            ],
            [
             1,
             "#f0f921"
            ]
           ],
           "sequentialminus": [
            [
             0,
             "#0d0887"
            ],
            [
             0.1111111111111111,
             "#46039f"
            ],
            [
             0.2222222222222222,
             "#7201a8"
            ],
            [
             0.3333333333333333,
             "#9c179e"
            ],
            [
             0.4444444444444444,
             "#bd3786"
            ],
            [
             0.5555555555555556,
             "#d8576b"
            ],
            [
             0.6666666666666666,
             "#ed7953"
            ],
            [
             0.7777777777777778,
             "#fb9f3a"
            ],
            [
             0.8888888888888888,
             "#fdca26"
            ],
            [
             1,
             "#f0f921"
            ]
           ]
          },
          "colorway": [
           "#636efa",
           "#EF553B",
           "#00cc96",
           "#ab63fa",
           "#FFA15A",
           "#19d3f3",
           "#FF6692",
           "#B6E880",
           "#FF97FF",
           "#FECB52"
          ],
          "font": {
           "color": "#2a3f5f"
          },
          "geo": {
           "bgcolor": "white",
           "lakecolor": "white",
           "landcolor": "#E5ECF6",
           "showlakes": true,
           "showland": true,
           "subunitcolor": "white"
          },
          "hoverlabel": {
           "align": "left"
          },
          "hovermode": "closest",
          "mapbox": {
           "style": "light"
          },
          "paper_bgcolor": "white",
          "plot_bgcolor": "#E5ECF6",
          "polar": {
           "angularaxis": {
            "gridcolor": "white",
            "linecolor": "white",
            "ticks": ""
           },
           "bgcolor": "#E5ECF6",
           "radialaxis": {
            "gridcolor": "white",
            "linecolor": "white",
            "ticks": ""
           }
          },
          "scene": {
           "xaxis": {
            "backgroundcolor": "#E5ECF6",
            "gridcolor": "white",
            "gridwidth": 2,
            "linecolor": "white",
            "showbackground": true,
            "ticks": "",
            "zerolinecolor": "white"
           },
           "yaxis": {
            "backgroundcolor": "#E5ECF6",
            "gridcolor": "white",
            "gridwidth": 2,
            "linecolor": "white",
            "showbackground": true,
            "ticks": "",
            "zerolinecolor": "white"
           },
           "zaxis": {
            "backgroundcolor": "#E5ECF6",
            "gridcolor": "white",
            "gridwidth": 2,
            "linecolor": "white",
            "showbackground": true,
            "ticks": "",
            "zerolinecolor": "white"
           }
          },
          "shapedefaults": {
           "line": {
            "color": "#2a3f5f"
           }
          },
          "ternary": {
           "aaxis": {
            "gridcolor": "white",
            "linecolor": "white",
            "ticks": ""
           },
           "baxis": {
            "gridcolor": "white",
            "linecolor": "white",
            "ticks": ""
           },
           "bgcolor": "#E5ECF6",
           "caxis": {
            "gridcolor": "white",
            "linecolor": "white",
            "ticks": ""
           }
          },
          "title": {
           "x": 0.05
          },
          "xaxis": {
           "automargin": true,
           "gridcolor": "white",
           "linecolor": "white",
           "ticks": "",
           "title": {
            "standoff": 15
           },
           "zerolinecolor": "white",
           "zerolinewidth": 2
          },
          "yaxis": {
           "automargin": true,
           "gridcolor": "white",
           "linecolor": "white",
           "ticks": "",
           "title": {
            "standoff": 15
           },
           "zerolinecolor": "white",
           "zerolinewidth": 2
          }
         }
        }
       }
      }
     },
     "metadata": {},
     "output_type": "display_data"
    },
    {
     "data": {
      "text/plain": [
       "<Figure size 1500x800 with 0 Axes>"
      ]
     },
     "metadata": {},
     "output_type": "display_data"
    }
   ],
   "source": [
    "import plotly.express as px \n",
    "\n",
    "plt.figure(figsize=(15,8))\n",
    "df_table['all'] = \"Tree Map\"\n",
    "\n",
    "fig = px.treemap(df_table.head(50),path=[\"all\",'items'],values=\"transaction\",\n",
    "                 color=df_table[\"transaction\"].head(50),hover_data=[\"items\"],\n",
    "                 color_continuous_scale=\"Blues\"\n",
    "                 )\n",
    "\n",
    "fig.show()"
   ]
  },
  {
   "cell_type": "code",
   "execution_count": 12,
   "metadata": {},
   "outputs": [
    {
     "name": "stdout",
     "output_type": "stream",
     "text": [
      "Combination 2 by 2\n"
     ]
    },
    {
     "name": "stderr",
     "output_type": "stream",
     "text": [
      "300it [00:01, 227.44it/s]\n"
     ]
    },
    {
     "name": "stdout",
     "output_type": "stream",
     "text": [
      "Combination 3 by 3\n"
     ]
    },
    {
     "name": "stderr",
     "output_type": "stream",
     "text": [
      "2300it [00:09, 231.10it/s]\n"
     ]
    },
    {
     "name": "stdout",
     "output_type": "stream",
     "text": [
      "Combination 4 by 4\n"
     ]
    },
    {
     "name": "stderr",
     "output_type": "stream",
     "text": [
      "12650it [00:56, 222.49it/s]\n"
     ]
    },
    {
     "name": "stdout",
     "output_type": "stream",
     "text": [
      "Combination 5 by 5\n"
     ]
    },
    {
     "name": "stderr",
     "output_type": "stream",
     "text": [
      "53130it [54:01, 16.39it/s] \n"
     ]
    },
    {
     "name": "stdout",
     "output_type": "stream",
     "text": [
      "Combination 6 by 6\n"
     ]
    },
    {
     "name": "stderr",
     "output_type": "stream",
     "text": [
      "108370it [09:12, 197.40it/s]"
     ]
    }
   ],
   "source": [
    "min_support = 5/100\n",
    "\n",
    "min_combination = 2\n",
    "\n",
    "max_combination = max(items_per_transaction)\n",
    "rule_indices,rule_supports = eclat.fit(min_support=min_support,\n",
    "                                       min_combination=min_combination,\n",
    "                                       max_combination=max_combination,\n",
    "                                       separator=' & ',\n",
    "                                       verbose=True)"
   ]
  },
  {
   "cell_type": "code",
   "execution_count": null,
   "metadata": {},
   "outputs": [],
   "source": []
  }
 ],
 "metadata": {
  "kernelspec": {
   "display_name": "Python 3",
   "language": "python",
   "name": "python3"
  },
  "language_info": {
   "codemirror_mode": {
    "name": "ipython",
    "version": 3
   },
   "file_extension": ".py",
   "mimetype": "text/x-python",
   "name": "python",
   "nbconvert_exporter": "python",
   "pygments_lexer": "ipython3",
   "version": "3.11.4"
  }
 },
 "nbformat": 4,
 "nbformat_minor": 2
}
